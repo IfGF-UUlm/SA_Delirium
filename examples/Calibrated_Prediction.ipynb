{
 "cells": [
  {
   "cell_type": "code",
   "execution_count": null,
   "id": "df944dd4-461f-48c5-a618-df09896db26d",
   "metadata": {},
   "outputs": [],
   "source": [
    "import sys\n",
    "import os\n",
    "parent_dir = os.path.abspath('..')\n",
    "sys.path.append(parent_dir)"
   ]
  },
  {
   "cell_type": "code",
   "execution_count": null,
   "id": "7aa54d9e-5ae5-4a54-8d81-bd3548d2d10c",
   "metadata": {},
   "outputs": [],
   "source": [
    "import numpy as np\n",
    "from pod_predictor.inference import PODPredictor"
   ]
  },
  {
   "cell_type": "markdown",
   "id": "c9d13de6-721a-4fa7-9cf9-9453739bd2ca",
   "metadata": {},
   "source": [
    "#### Load Model"
   ]
  },
  {
   "cell_type": "code",
   "execution_count": null,
   "id": "dfe3f02c-006e-4c90-89fa-144cdd44c9dc",
   "metadata": {},
   "outputs": [],
   "source": [
    "model = PODPredictor(path_to_file='../data/calibration.csv', calibration='va') # Venn-ABERS"
   ]
  },
  {
   "cell_type": "markdown",
   "id": "b635d86d-9cd4-4151-85f4-f7cc78df49e8",
   "metadata": {},
   "source": [
    "#### Example Data"
   ]
  },
  {
   "cell_type": "code",
   "execution_count": null,
   "id": "64d2c927-1e5a-4cd8-a163-3c30f3011929",
   "metadata": {},
   "outputs": [],
   "source": [
    "# Predictions are wrong if variable order in np.array differs from JSON_template.json.\n",
    "X_test = np.array([[90, 800, 60, 3, 6, 3, 8, 3, np.nan, 1, 0, 1, 0, 0, 0]])"
   ]
  },
  {
   "cell_type": "markdown",
   "id": "302cb686-7155-45b5-8995-d2a536bdec0b",
   "metadata": {},
   "source": [
    "#### Predict Delirium Probability"
   ]
  },
  {
   "cell_type": "code",
   "execution_count": null,
   "id": "089bc1de-34ca-4402-bac9-952baaebaa15",
   "metadata": {},
   "outputs": [],
   "source": [
    "# predict_proba method with Venn-ABERS calibration\n",
    "model.predict_proba(X_test)"
   ]
  },
  {
   "cell_type": "markdown",
   "id": "eae033d8-3f65-489f-a772-85f61100796b",
   "metadata": {},
   "source": [
    "#### Get Patient Report"
   ]
  },
  {
   "cell_type": "code",
   "execution_count": null,
   "id": "aa764592-db4d-4573-8e70-5b45aa0fdccc",
   "metadata": {},
   "outputs": [],
   "source": [
    "report = model.get_report(X_test)"
   ]
  },
  {
   "cell_type": "code",
   "execution_count": null,
   "id": "5e09b3b4-b84c-4823-8e98-2d1ff4974ec4",
   "metadata": {},
   "outputs": [],
   "source": [
    "report.T"
   ]
  },
  {
   "cell_type": "code",
   "execution_count": null,
   "id": "bde7d255-d5ea-4348-ad19-6f8068039eb0",
   "metadata": {},
   "outputs": [],
   "source": []
  }
 ],
 "metadata": {
  "kernelspec": {
   "display_name": "Python 3 (ipykernel)",
   "language": "python",
   "name": "python3"
  },
  "language_info": {
   "codemirror_mode": {
    "name": "ipython",
    "version": 3
   },
   "file_extension": ".py",
   "mimetype": "text/x-python",
   "name": "python",
   "nbconvert_exporter": "python",
   "pygments_lexer": "ipython3",
   "version": "3.10.12"
  }
 },
 "nbformat": 4,
 "nbformat_minor": 5
}
