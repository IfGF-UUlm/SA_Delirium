{
 "cells": [
  {
   "cell_type": "code",
   "execution_count": 1,
   "id": "df944dd4-461f-48c5-a618-df09896db26d",
   "metadata": {},
   "outputs": [],
   "source": [
    "import sys\n",
    "import os\n",
    "parent_dir = os.path.abspath('..')\n",
    "sys.path.append(parent_dir)"
   ]
  },
  {
   "cell_type": "code",
   "execution_count": 2,
   "id": "7aa54d9e-5ae5-4a54-8d81-bd3548d2d10c",
   "metadata": {},
   "outputs": [],
   "source": [
    "import numpy as np\n",
    "from pod_predictor.inference import PODPredictor"
   ]
  },
  {
   "cell_type": "markdown",
   "id": "c9d13de6-721a-4fa7-9cf9-9453739bd2ca",
   "metadata": {},
   "source": [
    "#### Load Model"
   ]
  },
  {
   "cell_type": "code",
   "execution_count": 3,
   "id": "dfe3f02c-006e-4c90-89fa-144cdd44c9dc",
   "metadata": {},
   "outputs": [],
   "source": [
    "model = PODPredictor(path_to_file='../data/calibration.csv', calibration='va') # Venn-ABERS"
   ]
  },
  {
   "cell_type": "markdown",
   "id": "b635d86d-9cd4-4151-85f4-f7cc78df49e8",
   "metadata": {},
   "source": [
    "#### Example Data"
   ]
  },
  {
   "cell_type": "code",
   "execution_count": 4,
   "id": "64d2c927-1e5a-4cd8-a163-3c30f3011929",
   "metadata": {},
   "outputs": [],
   "source": [
    "# Predictions are wrong if variable order in np.array differs from JSON_template.json.\n",
    "X_test = np.array([[90, 800, 60, 3, 6, 3, 8, 3, np.nan, 1, 0, 1, 0, 0, 0]])"
   ]
  },
  {
   "cell_type": "markdown",
   "id": "302cb686-7155-45b5-8995-d2a536bdec0b",
   "metadata": {},
   "source": [
    "### Get Prediction"
   ]
  },
  {
   "cell_type": "code",
   "execution_count": 5,
   "id": "089bc1de-34ca-4402-bac9-952baaebaa15",
   "metadata": {},
   "outputs": [
    {
     "data": {
      "text/plain": [
       "array([[0.94316644, 0.05683356]])"
      ]
     },
     "execution_count": 5,
     "metadata": {},
     "output_type": "execute_result"
    }
   ],
   "source": [
    "# predict_proba method with Venn-ABERS calibration\n",
    "model.predict_proba(X_test)"
   ]
  },
  {
   "cell_type": "code",
   "execution_count": 6,
   "id": "aa764592-db4d-4573-8e70-5b45aa0fdccc",
   "metadata": {},
   "outputs": [],
   "source": [
    "report = model.get_report(X_test)"
   ]
  },
  {
   "cell_type": "code",
   "execution_count": 7,
   "id": "5e09b3b4-b84c-4823-8e98-2d1ff4974ec4",
   "metadata": {},
   "outputs": [
    {
     "data": {
      "text/html": [
       "<div>\n",
       "<style scoped>\n",
       "    .dataframe tbody tr th:only-of-type {\n",
       "        vertical-align: middle;\n",
       "    }\n",
       "\n",
       "    .dataframe tbody tr th {\n",
       "        vertical-align: top;\n",
       "    }\n",
       "\n",
       "    .dataframe thead th {\n",
       "        text-align: right;\n",
       "    }\n",
       "</style>\n",
       "<table border=\"1\" class=\"dataframe\">\n",
       "  <thead>\n",
       "    <tr style=\"text-align: right;\">\n",
       "      <th></th>\n",
       "      <th>0</th>\n",
       "    </tr>\n",
       "  </thead>\n",
       "  <tbody>\n",
       "    <tr>\n",
       "      <th>Delirium Probability</th>\n",
       "      <td>0.056834</td>\n",
       "    </tr>\n",
       "    <tr>\n",
       "      <th>Confidence Interval (lower bound)</th>\n",
       "      <td>0.023810</td>\n",
       "    </tr>\n",
       "    <tr>\n",
       "      <th>Confidence Interval (upper bound)</th>\n",
       "      <td>0.058824</td>\n",
       "    </tr>\n",
       "    <tr>\n",
       "      <th>Estimated Cut-to-Suture Time (minutes)</th>\n",
       "      <td>-0.348300</td>\n",
       "    </tr>\n",
       "    <tr>\n",
       "      <th>Age (months)</th>\n",
       "      <td>-0.228457</td>\n",
       "    </tr>\n",
       "    <tr>\n",
       "      <th>GFR (Cockcroft-Gault, ml/min)</th>\n",
       "      <td>0.012340</td>\n",
       "    </tr>\n",
       "    <tr>\n",
       "      <th>ASA Class (score)</th>\n",
       "      <td>0.123500</td>\n",
       "    </tr>\n",
       "    <tr>\n",
       "      <th>MoCA Orientation (subscore)</th>\n",
       "      <td>-0.072321</td>\n",
       "    </tr>\n",
       "    <tr>\n",
       "      <th>MoCA Memory (subscore)</th>\n",
       "      <td>-0.155663</td>\n",
       "    </tr>\n",
       "    <tr>\n",
       "      <th>Number of Medications (n)</th>\n",
       "      <td>0.061433</td>\n",
       "    </tr>\n",
       "    <tr>\n",
       "      <th>Multimorbidity (score)</th>\n",
       "      <td>0.179407</td>\n",
       "    </tr>\n",
       "    <tr>\n",
       "      <th>Clinical Frailty Scale (score)</th>\n",
       "      <td>-0.095036</td>\n",
       "    </tr>\n",
       "    <tr>\n",
       "      <th>MoCA Verbal Fluency (subscore)</th>\n",
       "      <td>-0.260000</td>\n",
       "    </tr>\n",
       "    <tr>\n",
       "      <th>Dementia (Yes/No)</th>\n",
       "      <td>0.000000</td>\n",
       "    </tr>\n",
       "    <tr>\n",
       "      <th>Recent Fall (Yes/No)</th>\n",
       "      <td>0.310000</td>\n",
       "    </tr>\n",
       "    <tr>\n",
       "      <th>Post-OP Isolation (Yes/No)</th>\n",
       "      <td>0.000000</td>\n",
       "    </tr>\n",
       "    <tr>\n",
       "      <th>Pre-OP Benzodiazepines (Yes/No)</th>\n",
       "      <td>0.000000</td>\n",
       "    </tr>\n",
       "    <tr>\n",
       "      <th>Cardio-Pulmonary Bypass (Yes/No)</th>\n",
       "      <td>0.000000</td>\n",
       "    </tr>\n",
       "  </tbody>\n",
       "</table>\n",
       "</div>"
      ],
      "text/plain": [
       "                                               0\n",
       "Delirium Probability                    0.056834\n",
       "Confidence Interval (lower bound)       0.023810\n",
       "Confidence Interval (upper bound)       0.058824\n",
       "Estimated Cut-to-Suture Time (minutes) -0.348300\n",
       "Age (months)                           -0.228457\n",
       "GFR (Cockcroft-Gault, ml/min)           0.012340\n",
       "ASA Class (score)                       0.123500\n",
       "MoCA Orientation (subscore)            -0.072321\n",
       "MoCA Memory (subscore)                 -0.155663\n",
       "Number of Medications (n)               0.061433\n",
       "Multimorbidity (score)                  0.179407\n",
       "Clinical Frailty Scale (score)         -0.095036\n",
       "MoCA Verbal Fluency (subscore)         -0.260000\n",
       "Dementia (Yes/No)                       0.000000\n",
       "Recent Fall (Yes/No)                    0.310000\n",
       "Post-OP Isolation (Yes/No)              0.000000\n",
       "Pre-OP Benzodiazepines (Yes/No)         0.000000\n",
       "Cardio-Pulmonary Bypass (Yes/No)        0.000000"
      ]
     },
     "execution_count": 7,
     "metadata": {},
     "output_type": "execute_result"
    }
   ],
   "source": [
    "report.T"
   ]
  },
  {
   "cell_type": "code",
   "execution_count": null,
   "id": "bde7d255-d5ea-4348-ad19-6f8068039eb0",
   "metadata": {},
   "outputs": [],
   "source": []
  }
 ],
 "metadata": {
  "kernelspec": {
   "display_name": "Python 3 (ipykernel)",
   "language": "python",
   "name": "python3"
  },
  "language_info": {
   "codemirror_mode": {
    "name": "ipython",
    "version": 3
   },
   "file_extension": ".py",
   "mimetype": "text/x-python",
   "name": "python",
   "nbconvert_exporter": "python",
   "pygments_lexer": "ipython3",
   "version": "3.10.12"
  }
 },
 "nbformat": 4,
 "nbformat_minor": 5
}
