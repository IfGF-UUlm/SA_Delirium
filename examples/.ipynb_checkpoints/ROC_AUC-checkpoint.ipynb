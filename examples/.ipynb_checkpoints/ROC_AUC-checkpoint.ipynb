{
 "cells": [
  {
   "cell_type": "code",
   "execution_count": 1,
   "id": "89986580",
   "metadata": {},
   "outputs": [],
   "source": [
    "import sys\n",
    "import os\n",
    "parent_dir = os.path.abspath('..')\n",
    "sys.path.append(parent_dir)"
   ]
  },
  {
   "cell_type": "code",
   "execution_count": 2,
   "id": "1487de0f",
   "metadata": {},
   "outputs": [],
   "source": [
    "import pandas as pd\n",
    "from pod_predictor.inference import PODPredictor\n",
    "from sklearn.metrics import roc_auc_score"
   ]
  },
  {
   "cell_type": "code",
   "execution_count": 3,
   "id": "17277d9e",
   "metadata": {},
   "outputs": [],
   "source": [
    "model = PODPredictor()"
   ]
  },
  {
   "cell_type": "code",
   "execution_count": 4,
   "id": "9fad86ec-ea29-4705-a21b-d75521023b43",
   "metadata": {},
   "outputs": [],
   "source": [
    "data = pd.read_csv('../data/calibration.csv')\n",
    "X = data.drop(['Delirium'], axis=1)\n",
    "y = data['Delirium']"
   ]
  },
  {
   "cell_type": "code",
   "execution_count": 5,
   "id": "87799213-1310-4d2e-b798-104719ef4fd2",
   "metadata": {},
   "outputs": [],
   "source": [
    "proba = model.predict_proba(X)"
   ]
  },
  {
   "cell_type": "code",
   "execution_count": 6,
   "id": "11a81c43-c4b7-4930-bb66-49b0b47bef70",
   "metadata": {},
   "outputs": [
    {
     "name": "stdout",
     "output_type": "stream",
     "text": [
      "ROC AUC:  0.8559349593495935\n"
     ]
    }
   ],
   "source": [
    "print('ROC AUC: ', roc_auc_score(y, proba[:, 1]))"
   ]
  },
  {
   "cell_type": "code",
   "execution_count": null,
   "id": "8a16d92f-8162-4cd3-a912-f057a3d9f58d",
   "metadata": {},
   "outputs": [],
   "source": []
  }
 ],
 "metadata": {
  "kernelspec": {
   "display_name": "Python 3 (ipykernel)",
   "language": "python",
   "name": "python3"
  },
  "language_info": {
   "codemirror_mode": {
    "name": "ipython",
    "version": 3
   },
   "file_extension": ".py",
   "mimetype": "text/x-python",
   "name": "python",
   "nbconvert_exporter": "python",
   "pygments_lexer": "ipython3",
   "version": "3.10.12"
  }
 },
 "nbformat": 4,
 "nbformat_minor": 5
}
