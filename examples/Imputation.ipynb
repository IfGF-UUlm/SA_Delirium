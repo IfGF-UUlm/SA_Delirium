{
 "cells": [
  {
   "cell_type": "code",
   "execution_count": 1,
   "id": "df944dd4-461f-48c5-a618-df09896db26d",
   "metadata": {},
   "outputs": [],
   "source": [
    "import sys\n",
    "import os\n",
    "parent_dir = os.path.abspath('..')\n",
    "sys.path.append(parent_dir)"
   ]
  },
  {
   "cell_type": "code",
   "execution_count": 2,
   "id": "7aa54d9e-5ae5-4a54-8d81-bd3548d2d10c",
   "metadata": {},
   "outputs": [],
   "source": [
    "import numpy as np\n",
    "from pod_predictor.inference import PODPredictor"
   ]
  },
  {
   "cell_type": "markdown",
   "id": "c9d13de6-721a-4fa7-9cf9-9453739bd2ca",
   "metadata": {},
   "source": [
    "#### Load Model"
   ]
  },
  {
   "cell_type": "code",
   "execution_count": 3,
   "id": "dfe3f02c-006e-4c90-89fa-144cdd44c9dc",
   "metadata": {},
   "outputs": [],
   "source": [
    "model = PODPredictor(path_to_file='../data/calibration.csv', imputation='knn') # KNN Imputation"
   ]
  },
  {
   "cell_type": "markdown",
   "id": "b635d86d-9cd4-4151-85f4-f7cc78df49e8",
   "metadata": {},
   "source": [
    "#### Example Data"
   ]
  },
  {
   "cell_type": "code",
   "execution_count": 4,
   "id": "64d2c927-1e5a-4cd8-a163-3c30f3011929",
   "metadata": {},
   "outputs": [],
   "source": [
    "X_test = {\n",
    "  \"Estimated Cut-to-Suture Time (minutes)\": [90],\n",
    "  \"Age (months)\": [800],\n",
    "  \"GFR (Cockcroft-Gault, ml/min)\": [60],\n",
    "  \"ASA Class (score)\": [3],\n",
    "  \"MoCA Orientation (subscore)\": [6],\n",
    "  \"MoCA Memory (subscore)\": [3],\n",
    "  \"Number of Medications (n)\": [8],\n",
    "  \"Multimorbidity (score)\": [3],\n",
    "  \"Clinical Frailty Scale (score)\": [np.nan],\n",
    "  \"MoCA Verbal Fluency (subscore)\": [1],\n",
    "  \"Dementia (Yes/No)\": [0],\n",
    "  \"Recent Fall (Yes/No)\": [1],\n",
    "  \"Post-OP Isolation (Yes/No)\": [0],\n",
    "  \"Pre-OP Benzodiazepines (Yes/No)\": [0],\n",
    "  \"Cardio-Pulmonary Bypass (Yes/No)\": [0]\n",
    "}"
   ]
  },
  {
   "cell_type": "markdown",
   "id": "302cb686-7155-45b5-8995-d2a536bdec0b",
   "metadata": {},
   "source": [
    "#### Predict Delirium Probability"
   ]
  },
  {
   "cell_type": "code",
   "execution_count": 5,
   "id": "089bc1de-34ca-4402-bac9-952baaebaa15",
   "metadata": {},
   "outputs": [
    {
     "data": {
      "text/plain": [
       "array([[0.8957007, 0.1042993]])"
      ]
     },
     "execution_count": 5,
     "metadata": {},
     "output_type": "execute_result"
    }
   ],
   "source": [
    "model.predict_proba(X_test)"
   ]
  },
  {
   "cell_type": "markdown",
   "id": "8cdacea2-42ac-40a2-b608-29073943cb26",
   "metadata": {},
   "source": [
    "#### Get Patient Report"
   ]
  },
  {
   "cell_type": "code",
   "execution_count": 6,
   "id": "aa764592-db4d-4573-8e70-5b45aa0fdccc",
   "metadata": {},
   "outputs": [],
   "source": [
    "report = model.get_report(X_test)"
   ]
  },
  {
   "cell_type": "code",
   "execution_count": 7,
   "id": "65a23cbb-c269-4406-923e-d9a6480f12f3",
   "metadata": {},
   "outputs": [
    {
     "data": {
      "text/html": [
       "<div>\n",
       "<style scoped>\n",
       "    .dataframe tbody tr th:only-of-type {\n",
       "        vertical-align: middle;\n",
       "    }\n",
       "\n",
       "    .dataframe tbody tr th {\n",
       "        vertical-align: top;\n",
       "    }\n",
       "\n",
       "    .dataframe thead th {\n",
       "        text-align: right;\n",
       "    }\n",
       "</style>\n",
       "<table border=\"1\" class=\"dataframe\">\n",
       "  <thead>\n",
       "    <tr style=\"text-align: right;\">\n",
       "      <th></th>\n",
       "      <th>0</th>\n",
       "    </tr>\n",
       "  </thead>\n",
       "  <tbody>\n",
       "    <tr>\n",
       "      <th>Delirium Probability</th>\n",
       "      <td>0.104299</td>\n",
       "    </tr>\n",
       "    <tr>\n",
       "      <th>Confidence Interval (lower bound)</th>\n",
       "      <td>None</td>\n",
       "    </tr>\n",
       "    <tr>\n",
       "      <th>Confidence Interval (upper bound)</th>\n",
       "      <td>None</td>\n",
       "    </tr>\n",
       "    <tr>\n",
       "      <th>Estimated Cut-to-Suture Time (minutes)</th>\n",
       "      <td>-0.3483</td>\n",
       "    </tr>\n",
       "    <tr>\n",
       "      <th>Age (months)</th>\n",
       "      <td>-0.228457</td>\n",
       "    </tr>\n",
       "    <tr>\n",
       "      <th>GFR (Cockcroft-Gault, ml/min)</th>\n",
       "      <td>0.01234</td>\n",
       "    </tr>\n",
       "    <tr>\n",
       "      <th>ASA Class (score)</th>\n",
       "      <td>0.1235</td>\n",
       "    </tr>\n",
       "    <tr>\n",
       "      <th>MoCA Orientation (subscore)</th>\n",
       "      <td>-0.072321</td>\n",
       "    </tr>\n",
       "    <tr>\n",
       "      <th>MoCA Memory (subscore)</th>\n",
       "      <td>-0.155663</td>\n",
       "    </tr>\n",
       "    <tr>\n",
       "      <th>Number of Medications (n)</th>\n",
       "      <td>0.061433</td>\n",
       "    </tr>\n",
       "    <tr>\n",
       "      <th>Multimorbidity (score)</th>\n",
       "      <td>0.179407</td>\n",
       "    </tr>\n",
       "    <tr>\n",
       "      <th>Clinical Frailty Scale (score)</th>\n",
       "      <td>NaN</td>\n",
       "    </tr>\n",
       "    <tr>\n",
       "      <th>MoCA Verbal Fluency (subscore)</th>\n",
       "      <td>-0.26</td>\n",
       "    </tr>\n",
       "    <tr>\n",
       "      <th>Dementia (Yes/No)</th>\n",
       "      <td>0.0</td>\n",
       "    </tr>\n",
       "    <tr>\n",
       "      <th>Recent Fall (Yes/No)</th>\n",
       "      <td>0.31</td>\n",
       "    </tr>\n",
       "    <tr>\n",
       "      <th>Post-OP Isolation (Yes/No)</th>\n",
       "      <td>0.0</td>\n",
       "    </tr>\n",
       "    <tr>\n",
       "      <th>Pre-OP Benzodiazepines (Yes/No)</th>\n",
       "      <td>0.0</td>\n",
       "    </tr>\n",
       "    <tr>\n",
       "      <th>Cardio-Pulmonary Bypass (Yes/No)</th>\n",
       "      <td>0.0</td>\n",
       "    </tr>\n",
       "  </tbody>\n",
       "</table>\n",
       "</div>"
      ],
      "text/plain": [
       "                                               0\n",
       "Delirium Probability                    0.104299\n",
       "Confidence Interval (lower bound)           None\n",
       "Confidence Interval (upper bound)           None\n",
       "Estimated Cut-to-Suture Time (minutes)   -0.3483\n",
       "Age (months)                           -0.228457\n",
       "GFR (Cockcroft-Gault, ml/min)            0.01234\n",
       "ASA Class (score)                         0.1235\n",
       "MoCA Orientation (subscore)            -0.072321\n",
       "MoCA Memory (subscore)                 -0.155663\n",
       "Number of Medications (n)               0.061433\n",
       "Multimorbidity (score)                  0.179407\n",
       "Clinical Frailty Scale (score)               NaN\n",
       "MoCA Verbal Fluency (subscore)             -0.26\n",
       "Dementia (Yes/No)                            0.0\n",
       "Recent Fall (Yes/No)                        0.31\n",
       "Post-OP Isolation (Yes/No)                   0.0\n",
       "Pre-OP Benzodiazepines (Yes/No)              0.0\n",
       "Cardio-Pulmonary Bypass (Yes/No)             0.0"
      ]
     },
     "execution_count": 7,
     "metadata": {},
     "output_type": "execute_result"
    }
   ],
   "source": [
    "report.T"
   ]
  },
  {
   "cell_type": "code",
   "execution_count": null,
   "id": "1fcedffd-59e8-4f41-b21a-4e5ebd2141a1",
   "metadata": {},
   "outputs": [],
   "source": []
  }
 ],
 "metadata": {
  "kernelspec": {
   "display_name": "Python 3 (ipykernel)",
   "language": "python",
   "name": "python3"
  },
  "language_info": {
   "codemirror_mode": {
    "name": "ipython",
    "version": 3
   },
   "file_extension": ".py",
   "mimetype": "text/x-python",
   "name": "python",
   "nbconvert_exporter": "python",
   "pygments_lexer": "ipython3",
   "version": "3.10.12"
  }
 },
 "nbformat": 4,
 "nbformat_minor": 5
}
