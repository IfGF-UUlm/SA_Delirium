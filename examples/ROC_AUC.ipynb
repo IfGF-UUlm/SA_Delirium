{
 "cells": [
  {
   "cell_type": "code",
   "execution_count": 1,
   "id": "89986580",
   "metadata": {},
   "outputs": [],
   "source": [
    "import sys\n",
    "import os\n",
    "parent_dir = os.path.abspath('..')\n",
    "sys.path.append(parent_dir)"
   ]
  },
  {
   "cell_type": "code",
   "execution_count": 2,
   "id": "1487de0f",
   "metadata": {},
   "outputs": [],
   "source": [
    "import pandas as pd\n",
    "from pod_predictor.inference import PODPredictor\n",
    "from sklearn.metrics import roc_auc_score"
   ]
  },
  {
   "cell_type": "markdown",
   "id": "6efe66f4-b51f-4b00-839d-2c182d1b5b8d",
   "metadata": {},
   "source": [
    "#### Load Model"
   ]
  },
  {
   "cell_type": "code",
   "execution_count": 3,
   "id": "17277d9e",
   "metadata": {},
   "outputs": [],
   "source": [
    "model = PODPredictor()"
   ]
  },
  {
   "cell_type": "markdown",
   "id": "43aea0f7-f2a2-4886-85de-aba130dcbed3",
   "metadata": {},
   "source": [
    "#### Load Data"
   ]
  },
  {
   "cell_type": "code",
   "execution_count": 4,
   "id": "9fad86ec-ea29-4705-a21b-d75521023b43",
   "metadata": {},
   "outputs": [],
   "source": [
    "data = pd.read_csv('../data/calibration.csv')\n",
    "X = data.drop(['Delirium'], axis=1)\n",
    "y = data['Delirium']"
   ]
  },
  {
   "cell_type": "markdown",
   "id": "c2b05fcb-e4b9-4e08-8d37-3b89370ba1f4",
   "metadata": {},
   "source": [
    "#### Predict Delirium Probability"
   ]
  },
  {
   "cell_type": "code",
   "execution_count": 5,
   "id": "87799213-1310-4d2e-b798-104719ef4fd2",
   "metadata": {},
   "outputs": [],
   "source": [
    "proba = model.predict_proba(X)"
   ]
  },
  {
   "cell_type": "markdown",
   "id": "10b07099-252e-42f3-9b0e-0188e3a540cf",
   "metadata": {},
   "source": [
    "#### Get ROC AUC Score"
   ]
  },
  {
   "cell_type": "code",
   "execution_count": 6,
   "id": "11a81c43-c4b7-4930-bb66-49b0b47bef70",
   "metadata": {},
   "outputs": [
    {
     "name": "stdout",
     "output_type": "stream",
     "text": [
      "ROC AUC:  0.8570731707317073\n"
     ]
    }
   ],
   "source": [
    "print('ROC AUC: ', roc_auc_score(y, proba[:, 1]))"
   ]
  },
  {
   "cell_type": "code",
   "execution_count": null,
   "id": "280f7542-912f-4249-9968-8b7e6efd1c2e",
   "metadata": {},
   "outputs": [],
   "source": []
  }
 ],
 "metadata": {
  "kernelspec": {
   "display_name": "Python 3 (ipykernel)",
   "language": "python",
   "name": "python3"
  },
  "language_info": {
   "codemirror_mode": {
    "name": "ipython",
    "version": 3
   },
   "file_extension": ".py",
   "mimetype": "text/x-python",
   "name": "python",
   "nbconvert_exporter": "python",
   "pygments_lexer": "ipython3",
   "version": "3.10.12"
  }
 },
 "nbformat": 4,
 "nbformat_minor": 5
}
