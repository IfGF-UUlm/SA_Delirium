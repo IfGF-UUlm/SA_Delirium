{
 "cells": [
  {
   "cell_type": "code",
   "execution_count": 1,
   "id": "6443237c-9059-459b-aa5e-a95edc127041",
   "metadata": {},
   "outputs": [],
   "source": [
    "import sys\n",
    "import os\n",
    "parent_dir = os.path.abspath('..')\n",
    "sys.path.append(parent_dir)"
   ]
  },
  {
   "cell_type": "code",
   "execution_count": 2,
   "id": "7aa54d9e-5ae5-4a54-8d81-bd3548d2d10c",
   "metadata": {},
   "outputs": [],
   "source": [
    "import numpy as np\n",
    "from pod_predictor.inference import PODPredictor"
   ]
  },
  {
   "cell_type": "markdown",
   "id": "754dfd49-f1e0-4074-b31d-3a745917f859",
   "metadata": {},
   "source": [
    "#### Load Model"
   ]
  },
  {
   "cell_type": "code",
   "execution_count": 3,
   "id": "dfe3f02c-006e-4c90-89fa-144cdd44c9dc",
   "metadata": {},
   "outputs": [],
   "source": [
    "model = PODPredictor(path_to_file='../data/calibration.csv', calibration='va') # Venn-ABERS"
   ]
  },
  {
   "cell_type": "markdown",
   "id": "4cb6f7b1-6738-4f1d-a821-cf0d043e2bf4",
   "metadata": {},
   "source": [
    "#### Example Data"
   ]
  },
  {
   "cell_type": "code",
   "execution_count": 4,
   "id": "64d2c927-1e5a-4cd8-a163-3c30f3011929",
   "metadata": {},
   "outputs": [],
   "source": [
    "X_test = {\n",
    "  \"Estimated Cut-to-Suture Time (minutes)\": [90, np.nan],\n",
    "  \"Age (months)\": [800, 900],\n",
    "  \"GFR (Cockcroft-Gault, ml/min)\": [60, 32],\n",
    "  \"ASA Class (score)\": [3, 3],\n",
    "  \"MoCA Orientation (subscore)\": [6, 6],\n",
    "  \"MoCA Memory (subscore)\": [3, 3],\n",
    "  \"Number of Medications (n)\": [8, 5],\n",
    "  \"Multimorbidity (score)\": [3, 2],\n",
    "  \"Clinical Frailty Scale (score)\": [np.nan, 6],\n",
    "  \"MoCA Verbal Fluency (subscore)\": [1, 1],\n",
    "  \"Dementia (Yes/No)\": [0, 0],\n",
    "  \"Recent Fall (Yes/No)\": [1, 0],\n",
    "  \"Post-OP Isolation (Yes/No)\": [0, 0],\n",
    "  \"Pre-OP Benzodiazepines (Yes/No)\": [0, 0],\n",
    "  \"Cardio-Pulmonary Bypass (Yes/No)\": [0, 0]\n",
    "}"
   ]
  },
  {
   "cell_type": "markdown",
   "id": "1e5992ff-cc1a-4f0e-9831-67b2661a6d36",
   "metadata": {},
   "source": [
    "#### Predict Delirium Probability"
   ]
  },
  {
   "cell_type": "code",
   "execution_count": 5,
   "id": "21c5297c-a539-4964-94c6-920e1b048c93",
   "metadata": {},
   "outputs": [
    {
     "data": {
      "text/plain": [
       "array([[0.94316644, 0.05683356],\n",
       "       [0.80882353, 0.19117647]])"
      ]
     },
     "execution_count": 5,
     "metadata": {},
     "output_type": "execute_result"
    }
   ],
   "source": [
    "# predict_proba method with Venn-ABERS calibration\n",
    "model.predict_proba(X_test)"
   ]
  },
  {
   "cell_type": "markdown",
   "id": "cd48888b-fb96-43af-a70c-1700415c01b4",
   "metadata": {},
   "source": [
    "#### Get Patient Report"
   ]
  },
  {
   "cell_type": "code",
   "execution_count": 6,
   "id": "2ebaa5ed-deae-40ef-9503-2dc9a9d59cf2",
   "metadata": {},
   "outputs": [],
   "source": [
    "report = model.get_report(X_test)"
   ]
  },
  {
   "cell_type": "code",
   "execution_count": 7,
   "id": "c2f11961-a906-44f8-9bdd-972d324a626d",
   "metadata": {},
   "outputs": [
    {
     "data": {
      "text/html": [
       "<div>\n",
       "<style scoped>\n",
       "    .dataframe tbody tr th:only-of-type {\n",
       "        vertical-align: middle;\n",
       "    }\n",
       "\n",
       "    .dataframe tbody tr th {\n",
       "        vertical-align: top;\n",
       "    }\n",
       "\n",
       "    .dataframe thead th {\n",
       "        text-align: right;\n",
       "    }\n",
       "</style>\n",
       "<table border=\"1\" class=\"dataframe\">\n",
       "  <thead>\n",
       "    <tr style=\"text-align: right;\">\n",
       "      <th></th>\n",
       "      <th>0</th>\n",
       "      <th>1</th>\n",
       "    </tr>\n",
       "  </thead>\n",
       "  <tbody>\n",
       "    <tr>\n",
       "      <th>Delirium Probability</th>\n",
       "      <td>0.056834</td>\n",
       "      <td>0.191176</td>\n",
       "    </tr>\n",
       "    <tr>\n",
       "      <th>Confidence Interval (lower bound)</th>\n",
       "      <td>0.023810</td>\n",
       "      <td>0.153846</td>\n",
       "    </tr>\n",
       "    <tr>\n",
       "      <th>Confidence Interval (upper bound)</th>\n",
       "      <td>0.058824</td>\n",
       "      <td>0.200000</td>\n",
       "    </tr>\n",
       "    <tr>\n",
       "      <th>Estimated Cut-to-Suture Time (minutes)</th>\n",
       "      <td>-0.348300</td>\n",
       "      <td>NaN</td>\n",
       "    </tr>\n",
       "    <tr>\n",
       "      <th>Age (months)</th>\n",
       "      <td>-0.228457</td>\n",
       "      <td>-0.058563</td>\n",
       "    </tr>\n",
       "    <tr>\n",
       "      <th>GFR (Cockcroft-Gault, ml/min)</th>\n",
       "      <td>0.012340</td>\n",
       "      <td>0.049857</td>\n",
       "    </tr>\n",
       "    <tr>\n",
       "      <th>ASA Class (score)</th>\n",
       "      <td>0.123500</td>\n",
       "      <td>0.123500</td>\n",
       "    </tr>\n",
       "    <tr>\n",
       "      <th>MoCA Orientation (subscore)</th>\n",
       "      <td>-0.072321</td>\n",
       "      <td>-0.072321</td>\n",
       "    </tr>\n",
       "    <tr>\n",
       "      <th>MoCA Memory (subscore)</th>\n",
       "      <td>-0.155663</td>\n",
       "      <td>-0.155663</td>\n",
       "    </tr>\n",
       "    <tr>\n",
       "      <th>Number of Medications (n)</th>\n",
       "      <td>0.061433</td>\n",
       "      <td>-0.035058</td>\n",
       "    </tr>\n",
       "    <tr>\n",
       "      <th>Multimorbidity (score)</th>\n",
       "      <td>0.179407</td>\n",
       "      <td>0.075704</td>\n",
       "    </tr>\n",
       "    <tr>\n",
       "      <th>Clinical Frailty Scale (score)</th>\n",
       "      <td>NaN</td>\n",
       "      <td>0.364818</td>\n",
       "    </tr>\n",
       "    <tr>\n",
       "      <th>MoCA Verbal Fluency (subscore)</th>\n",
       "      <td>-0.260000</td>\n",
       "      <td>-0.260000</td>\n",
       "    </tr>\n",
       "    <tr>\n",
       "      <th>Dementia (Yes/No)</th>\n",
       "      <td>0.000000</td>\n",
       "      <td>0.000000</td>\n",
       "    </tr>\n",
       "    <tr>\n",
       "      <th>Recent Fall (Yes/No)</th>\n",
       "      <td>0.310000</td>\n",
       "      <td>0.000000</td>\n",
       "    </tr>\n",
       "    <tr>\n",
       "      <th>Post-OP Isolation (Yes/No)</th>\n",
       "      <td>0.000000</td>\n",
       "      <td>0.000000</td>\n",
       "    </tr>\n",
       "    <tr>\n",
       "      <th>Pre-OP Benzodiazepines (Yes/No)</th>\n",
       "      <td>0.000000</td>\n",
       "      <td>0.000000</td>\n",
       "    </tr>\n",
       "    <tr>\n",
       "      <th>Cardio-Pulmonary Bypass (Yes/No)</th>\n",
       "      <td>0.000000</td>\n",
       "      <td>0.000000</td>\n",
       "    </tr>\n",
       "  </tbody>\n",
       "</table>\n",
       "</div>"
      ],
      "text/plain": [
       "                                               0         1\n",
       "Delirium Probability                    0.056834  0.191176\n",
       "Confidence Interval (lower bound)       0.023810  0.153846\n",
       "Confidence Interval (upper bound)       0.058824  0.200000\n",
       "Estimated Cut-to-Suture Time (minutes) -0.348300       NaN\n",
       "Age (months)                           -0.228457 -0.058563\n",
       "GFR (Cockcroft-Gault, ml/min)           0.012340  0.049857\n",
       "ASA Class (score)                       0.123500  0.123500\n",
       "MoCA Orientation (subscore)            -0.072321 -0.072321\n",
       "MoCA Memory (subscore)                 -0.155663 -0.155663\n",
       "Number of Medications (n)               0.061433 -0.035058\n",
       "Multimorbidity (score)                  0.179407  0.075704\n",
       "Clinical Frailty Scale (score)               NaN  0.364818\n",
       "MoCA Verbal Fluency (subscore)         -0.260000 -0.260000\n",
       "Dementia (Yes/No)                       0.000000  0.000000\n",
       "Recent Fall (Yes/No)                    0.310000  0.000000\n",
       "Post-OP Isolation (Yes/No)              0.000000  0.000000\n",
       "Pre-OP Benzodiazepines (Yes/No)         0.000000  0.000000\n",
       "Cardio-Pulmonary Bypass (Yes/No)        0.000000  0.000000"
      ]
     },
     "execution_count": 7,
     "metadata": {},
     "output_type": "execute_result"
    }
   ],
   "source": [
    "report.T"
   ]
  },
  {
   "cell_type": "code",
   "execution_count": null,
   "id": "72543895-9700-44d9-87dd-ce1ecae535cf",
   "metadata": {},
   "outputs": [],
   "source": []
  }
 ],
 "metadata": {
  "kernelspec": {
   "display_name": "Python 3 (ipykernel)",
   "language": "python",
   "name": "python3"
  },
  "language_info": {
   "codemirror_mode": {
    "name": "ipython",
    "version": 3
   },
   "file_extension": ".py",
   "mimetype": "text/x-python",
   "name": "python",
   "nbconvert_exporter": "python",
   "pygments_lexer": "ipython3",
   "version": "3.10.12"
  }
 },
 "nbformat": 4,
 "nbformat_minor": 5
}
